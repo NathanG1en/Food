{
 "cells": [
  {
   "cell_type": "code",
   "id": "initial_id",
   "metadata": {
    "collapsed": true,
    "ExecuteTime": {
     "end_time": "2025-02-19T00:48:38.555517Z",
     "start_time": "2025-02-19T00:48:35.637780Z"
    }
   },
   "source": [
    "import pandas as pd\n",
    "import requests\n",
    "\n",
    "def get_calories_from_api(ingredient, amount):\n",
    "    # Replace this URL with the endpoint for your chosen API\n",
    "    url = \"https://api.edamam.com/api/nutrition-data\"\n",
    "    # Add your API key and any other required parameters\n",
    "    params = {\n",
    "        'app_id': '716f35ca',\n",
    "        'app_key': '941ff04905615c00642357ebb6ecb25d\t',\n",
    "        'ingr': f\"{amount} {ingredient}\"\n",
    "    }\n",
    "    \n",
    "    # Make a request to the API\n",
    "    response = requests.get(url, params=params)\n",
    "    data = response.json()\n",
    "    \n",
    "    # Check if the API call was successful\n",
    "    if response.status_code == 200 and 'calories' in data:\n",
    "        return data['calories']\n",
    "    else:\n",
    "        return None\n",
    "\n",
    "def calculate_calories_for_ingredients(recipe_df):\n",
    "    # Adding a new column for individual ingredient calories\n",
    "    recipe_df['Calories'] = recipe_df.apply(\n",
    "        lambda row: get_calories_from_api(row['Ingredient'], row['Amount']), axis=1\n",
    "    )\n",
    "    return recipe_df\n",
    "\n",
    "# Load your table of recipes\n",
    "recipe_df = pd.read_csv('recipe.csv')\n",
    "ingredient, amount = recipe_df[\"Ingredient\"], recipe_df[\"Amount\"]\n",
    "# Calculate calories for each recipe\n",
    "recipe_calories_df = calculate_calories_for_ingredients(recipe_df)\n",
    "print(recipe_calories_df)\n"
   ],
   "outputs": [
    {
     "name": "stderr",
     "output_type": "stream",
     "text": [
      "/Users/nathanglen/anaconda3/lib/python3.11/site-packages/pandas/core/arrays/masked.py:60: UserWarning: Pandas requires version '1.3.6' or newer of 'bottleneck' (version '1.3.5' currently installed).\n",
      "  from pandas.core import (\n"
     ]
    },
    {
     "name": "stdout",
     "output_type": "stream",
     "text": [
      "                 Ingredient           Amount  Calories\n",
      "0   White whole wheat flour   2 cups (~240g)       816\n",
      "1             Baking powder      1 tsp (~5g)         2\n",
      "2             Ground ginger  1/4 tsp (~0.5g)         1\n",
      "3                    Nutmeg  1/4 tsp (~0.5g)         2\n",
      "4                  Cinnamon    1/2 tsp (~1g)         3\n",
      "5                     Honey  1/3 cup (~113g)       343\n",
      "6               Coconut oil   1/4 cup (~55g)       486\n",
      "7                    Butter    5 tbsp (~71g)       509\n",
      "8                       Egg          1 large        71\n",
      "9           Vanilla extract      1 tsp (~5g)        12\n",
      "10           Almond extract      1 tsp (~5g)        12\n"
     ]
    }
   ],
   "execution_count": 1
  },
  {
   "metadata": {
    "ExecuteTime": {
     "end_time": "2025-02-18T22:34:31.711141Z",
     "start_time": "2025-02-18T22:34:31.709654Z"
    }
   },
   "cell_type": "code",
   "source": [
    "# # Data for the ingredients and amounts provided by the user\n",
    "# ingredient_data = {\n",
    "#     \"Ingredient\": [\n",
    "#         \"White whole wheat flour\", \"Baking powder\", \"Ground ginger\", \n",
    "#         \"Nutmeg\", \"Cinnamon\", \"Honey\", \"Coconut oil\", \n",
    "#         \"Butter\", \"Egg\", \"Vanilla extract\", \"Almond extract\"\n",
    "#     ],\n",
    "#     \"Amount\": [\n",
    "#         \"2 cups (~240g)\", \"1 tsp (~5g)\", \"1/4 tsp (~0.5g)\", \n",
    "#         \"1/4 tsp (~0.5g)\", \"1/2 tsp (~1g)\", \"1/3 cup (~113g)\", \n",
    "#         \"1/4 cup (~55g)\", \"5 tbsp (~71g)\", \"1 large\", \"1 tsp (~5g)\", \"1 tsp (~5g)\"\n",
    "#     ]\n",
    "# }\n",
    "# \n",
    "# # Create DataFrame\n",
    "# ingredient_df = pd.DataFrame(ingredient_data)\n",
    "# \n",
    "# # Save to CSV\n",
    "# ingredient_csv_path = 'recipe.csv'\n",
    "# ingredient_df.to_csv(ingredient_csv_path, index=False)\n",
    "# \n",
    "# ingredient_csv_path"
   ],
   "id": "1bfad5c489e1bb64",
   "outputs": [],
   "execution_count": 20
  },
  {
   "metadata": {
    "ExecuteTime": {
     "end_time": "2025-02-18T22:38:28.918427Z",
     "start_time": "2025-02-18T22:38:28.616200Z"
    }
   },
   "cell_type": "code",
   "source": [
    "import requests\n",
    "\n",
    "# Set up API credentials and endpoint\n",
    "API_ID = '716f35ca'\n",
    "API_KEY = '941ff04905615c00642357ebb6ecb25d'\n",
    "URL = 'https://api.edamam.com/api/nutrition-details'\n",
    "\n",
    "def analyze_recipe(ingredients):\n",
    "    # Prepare payload\n",
    "    data = {\n",
    "        \"title\": \"Recipe Analysis\",\n",
    "        \"ingr\": ingredients  # List of ingredient strings\n",
    "    }\n",
    "    \n",
    "    # Send request to the Edamam API\n",
    "    response = requests.post(f\"{URL}?app_id={API_ID}&app_key={API_KEY}\", json=data)\n",
    "    if response.status_code == 200:\n",
    "        return response.json()\n",
    "    else:\n",
    "        print(\"Error:\", response.status_code)\n",
    "        return None\n",
    "\n",
    "# Define compliance check\n",
    "def check_compliance(nutritional_data):\n",
    "    total_calories = nutritional_data.get('calories', 0)\n",
    "    sodium = nutritional_data['totalNutrients'].get('NA', {}).get('quantity', 0)\n",
    "    total_fat = nutritional_data['totalNutrients'].get('FAT', {}).get('quantity', 0)\n",
    "    saturated_fat = nutritional_data['totalNutrients'].get('FASAT', {}).get('quantity', 0)\n",
    "    trans_fat = nutritional_data['totalNutrients'].get('FATRN', {}).get('quantity', 0)\n",
    "    total_sugars = nutritional_data['totalNutrients'].get('SUGAR', {}).get('quantity', 0)\n",
    "    recipe_weight = nutritional_data.get('totalWeight', 0)\n",
    "\n",
    "    compliance = {\n",
    "        'Calories': total_calories <= 200,\n",
    "        'Sodium': sodium <= 200,\n",
    "        'Total Fat': (total_fat * 9) <= 0.35 * total_calories,\n",
    "        'Saturated Fat': (saturated_fat * 9) < 0.1 * total_calories,\n",
    "        'Trans Fat': trans_fat == 0,\n",
    "        'Total Sugars': total_sugars <= 0.35 * recipe_weight\n",
    "    }\n",
    "    return compliance\n",
    "\n",
    "# Example list of ingredients\n",
    "ingredients_list = [\n",
    "    \"2 cups white whole wheat flour\",\n",
    "    \"1 tsp baking powder\",\n",
    "    \"1/4 tsp ginger\",\n",
    "    \"1/4 tsp nutmeg\",\n",
    "    \"1/2 tsp cinnamon\",\n",
    "    \"1/3 cup honey\",\n",
    "    \"1/4 cup coconut oil, melted\",\n",
    "    \"5 Tbsp butter, at room temperature\",\n",
    "    \"1 egg\",\n",
    "    \"1 tsp vanilla extract\",\n",
    "    \"1 tsp almond extract\"\n",
    "]\n",
    "\n",
    "# Analyze recipe\n",
    "nutrition_data = analyze_recipe(ingredients_list)\n",
    "\n",
    "# Check compliance if data is available\n",
    "if nutrition_data:\n",
    "    compliance_results = check_compliance(nutrition_data)\n",
    "    # print(\"Nutritional Data:\", nutrition_data)\n",
    "    print(\"Compliance Check:\", compliance_results)"
   ],
   "id": "8316f335f4e421b",
   "outputs": [
    {
     "name": "stdout",
     "output_type": "stream",
     "text": [
      "Compliance Check: {'Calories': False, 'Sodium': False, 'Total Fat': False, 'Saturated Fat': False, 'Trans Fat': False, 'Total Sugars': True}\n"
     ]
    }
   ],
   "execution_count": 2
  },
  {
   "metadata": {
    "ExecuteTime": {
     "end_time": "2025-02-18T22:38:32.105371Z",
     "start_time": "2025-02-18T22:38:31.892300Z"
    }
   },
   "cell_type": "code",
   "source": [
    "import requests\n",
    "\n",
    "# Set up API credentials and endpoint\n",
    "API_ID = '716f35ca'\n",
    "API_KEY = '941ff04905615c00642357ebb6ecb25d'\n",
    "URL = 'https://api.edamam.com/api/nutrition-details'\n",
    "\n",
    "def analyze_recipe(ingredients):\n",
    "    # Prepare payload\n",
    "    data = {\n",
    "        \"title\": \"Recipe Analysis\",\n",
    "        \"ingr\": ingredients  # List of ingredient strings\n",
    "    }\n",
    "    \n",
    "    # Send request to the Edamam API\n",
    "    response = requests.post(f\"{URL}?app_id={API_ID}&app_key={API_KEY}\", json=data)\n",
    "    if response.status_code == 200:\n",
    "        return response.json()\n",
    "    else:\n",
    "        print(\"Error:\", response.status_code)\n",
    "        return None\n",
    "\n",
    "# Define compliance check\n",
    "def check_compliance_per_serving(nutritional_data, servings):\n",
    "    # Get total values from API response\n",
    "    total_calories = nutritional_data.get('calories', 0)\n",
    "    sodium = nutritional_data['totalNutrients'].get('NA', {}).get('quantity', 0)\n",
    "    total_fat = nutritional_data['totalNutrients'].get('FAT', {}).get('quantity', 0)\n",
    "    saturated_fat = nutritional_data['totalNutrients'].get('FASAT', {}).get('quantity', 0)\n",
    "    trans_fat = nutritional_data['totalNutrients'].get('FATRN', {}).get('quantity', 0)\n",
    "    total_sugars = nutritional_data['totalNutrients'].get('SUGAR', {}).get('quantity', 0)\n",
    "    recipe_weight = nutritional_data.get('totalWeight', 0)\n",
    "    \n",
    "    # Calculate per-serving values\n",
    "    calories_per_serving = total_calories / servings\n",
    "    sodium_per_serving = sodium / servings\n",
    "    total_fat_per_serving = total_fat / servings\n",
    "    saturated_fat_per_serving = saturated_fat / servings\n",
    "    trans_fat_per_serving = trans_fat / servings\n",
    "    total_sugars_per_serving = total_sugars / servings\n",
    "    weight_per_serving = recipe_weight / servings\n",
    "\n",
    "    # Check compliance per serving\n",
    "    compliance = {\n",
    "        'Calories': calories_per_serving <= 200,\n",
    "        'Sodium': sodium_per_serving <= 200,\n",
    "        'Total Fat': (total_fat_per_serving * 9) <= 0.35 * calories_per_serving,\n",
    "        'Saturated Fat': (saturated_fat_per_serving * 9) < 0.1 * calories_per_serving,\n",
    "        'Trans Fat': trans_fat_per_serving < 0.5,\n",
    "        'Total Sugars': total_sugars_per_serving <= 0.35 * weight_per_serving\n",
    "    }\n",
    "    \n",
    "    # Output values for reference\n",
    "    print(f\"Calories per Serving: {calories_per_serving}\")\n",
    "    print(f\"Sodium per Serving: {sodium_per_serving}\")\n",
    "    print(f\"Total Fat per Serving: {total_fat_per_serving}\")\n",
    "    print(f\"Saturated Fat per Serving: {saturated_fat_per_serving}\")\n",
    "    print(f\"Trans Fat per Serving: {trans_fat_per_serving}\")\n",
    "    print(f\"Total Sugars per Serving: {total_sugars_per_serving}\")\n",
    "    \n",
    "    return compliance\n",
    "\n",
    "# Example list of ingredients\n",
    "ingredients_list = [\n",
    "    \"2 cups white whole wheat flour\",\n",
    "    \"1 tsp baking powder\",\n",
    "    \"1/4 tsp ginger\",\n",
    "    \"1/4 tsp nutmeg\",\n",
    "    \"1/2 tsp cinnamon\",\n",
    "    \"1/3 cup honey\",\n",
    "    \"1/4 cup coconut oil, melted\",\n",
    "    \"5 Tbsp butter, at room temperature\",\n",
    "    \"1 egg\",\n",
    "    \"1 tsp vanilla extract\",\n",
    "    \"1 tsp almond extract\"\n",
    "]\n",
    "\n",
    "# Number of servings\n",
    "servings = 12\n",
    "\n",
    "# Analyze recipe\n",
    "nutrition_data = analyze_recipe(ingredients_list)\n",
    "\n",
    "# Check compliance if data is available\n",
    "if nutrition_data:\n",
    "    compliance_results = check_compliance_per_serving(nutrition_data, servings)\n",
    "    print(\"Compliance Check per Serving:\", compliance_results)\n"
   ],
   "id": "6c52a95799d43115",
   "outputs": [
    {
     "name": "stdout",
     "output_type": "stream",
     "text": [
      "Calories per Serving: 187.41666666666666\n",
      "Sodium per Serving: 36.84741666666667\n",
      "Total Fat per Serving: 10.158696666666668\n",
      "Saturated Fat per Serving: 6.945349166666667\n",
      "Trans Fat per Serving: 0.0026333333333333334\n",
      "Total Sugars per Serving: 7.922521249999999\n",
      "Compliance Check per Serving: {'Calories': True, 'Sodium': True, 'Total Fat': False, 'Saturated Fat': False, 'Trans Fat': True, 'Total Sugars': True}\n"
     ]
    }
   ],
   "execution_count": 3
  },
  {
   "metadata": {
    "ExecuteTime": {
     "end_time": "2025-02-18T22:34:32.538691Z",
     "start_time": "2025-02-18T22:34:32.537491Z"
    }
   },
   "cell_type": "code",
   "source": "",
   "id": "a3489f3538e1582f",
   "outputs": [],
   "execution_count": 22
  },
  {
   "metadata": {
    "ExecuteTime": {
     "end_time": "2025-02-18T22:34:32.540960Z",
     "start_time": "2025-02-18T22:34:32.539764Z"
    }
   },
   "cell_type": "code",
   "source": "",
   "id": "3e38cbd3efa53d5e",
   "outputs": [],
   "execution_count": 22
  },
  {
   "metadata": {},
   "cell_type": "code",
   "outputs": [],
   "execution_count": null,
   "source": "import duckduckgo_search",
   "id": "f8dcc2096ffdf1a0"
  }
 ],
 "metadata": {
  "kernelspec": {
   "display_name": "Python 3",
   "language": "python",
   "name": "python3"
  },
  "language_info": {
   "codemirror_mode": {
    "name": "ipython",
    "version": 2
   },
   "file_extension": ".py",
   "mimetype": "text/x-python",
   "name": "python",
   "nbconvert_exporter": "python",
   "pygments_lexer": "ipython2",
   "version": "2.7.6"
  }
 },
 "nbformat": 4,
 "nbformat_minor": 5
}
